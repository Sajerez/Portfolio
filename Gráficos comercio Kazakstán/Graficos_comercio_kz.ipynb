{
 "cells": [
  {
   "cell_type": "markdown",
   "metadata": {},
   "source": []
  },
  {
   "cell_type": "code",
   "execution_count": null,
   "metadata": {},
   "outputs": [],
   "source": [
    "import pandas as pd\n",
    "import numpy as np\n",
    "import matplotlib.pyplot as plt\n",
    "import matplotlib as mpl"
   ]
  },
  {
   "cell_type": "code",
   "execution_count": null,
   "metadata": {},
   "outputs": [],
   "source": [
    "mpl.rcParams['font.family'] = 'serif'\n",
    "mpl.rcParams['font.size']='8'\n",
    "df2022=pd.read_csv(\"2022.csv\", sep=\",\")\n",
    "df2015=pd.read_csv(\"2015.csv\", sep=\",\")\n",
    "df2022"
   ]
  },
  {
   "cell_type": "code",
   "execution_count": null,
   "metadata": {},
   "outputs": [],
   "source": [
    "df2022=df2022.sort_values(by='Trade Value', ascending=False)\n",
    "df2015=df2015.sort_values(by='Trade Value', ascending=False)\n",
    "df2022.rename(columns={'Trade Value':'Trade Value 2022'}, inplace=True)\n",
    "df2015.rename(columns={'Trade Value':'Trade Value 2015'}, inplace=True)\n",
    "del df2022['Year']\n",
    "del df2015['Year']\n",
    "df2022"
   ]
  },
  {
   "cell_type": "code",
   "execution_count": null,
   "metadata": {},
   "outputs": [],
   "source": [
    "df=pd.merge(df2015,df2022, how='outer')"
   ]
  },
  {
   "cell_type": "code",
   "execution_count": null,
   "metadata": {},
   "outputs": [],
   "source": [
    "df['Porcentaje']=(df['Trade Value 2022']*100/df['Trade Value 2015'])\n",
    "df=df.sort_values(by='Trade Value 2022', ascending=False)\n",
    "df=df.head()\n",
    "#df['Trade Value 2022']=df['Trade Value 2022'].apply(lambda x: f'{x:,.2f}')\n",
    "#df['Trade Value 2015']=df['Trade Value 2015'].apply(lambda x: f'{x:,.2f}')\n",
    "df"
   ]
  },
  {
   "cell_type": "code",
   "execution_count": null,
   "metadata": {},
   "outputs": [],
   "source": [
    "x=df['Country'].head()\n",
    "y=df['Porcentaje'].head()\n",
    "y2=df['Trade Value 2022'].head()"
   ]
  },
  {
   "cell_type": "code",
   "execution_count": null,
   "metadata": {},
   "outputs": [],
   "source": [
    "plt.figure(figsize=(10, 6))\n",
    "plt.subplot(121)\n",
    "plt.bar(x,y2, width=0.5, label='Exportaciones en dólares')\n",
    "plt.xticks(rotation=45)\n",
    "plt.title('Destino de exportaciones de petróleo crudo en 2022')\n",
    "plt.grid(True, axis='y', linestyle='--', alpha=0.7)\n",
    "plt.gca().yaxis.set_major_formatter(plt.FuncFormatter(lambda x, _: f'{x:,.0f}'))\n",
    "plt.legend(loc=0)\n",
    "plt.xlabel('País')\n",
    "plt.ylabel('Exportaciones')\n",
    "plt.subplot(122)\n",
    "plt.bar(x,y, width=0.5, color='g', label='Porcentaje de crecimiento')\n",
    "plt.xlabel('País')\n",
    "plt.ylabel('Porcentaje de crecimiento')\n",
    "plt.grid(True, axis='y', linestyle='--', alpha=0.7)\n",
    "plt.xticks(rotation=45)\n",
    "plt.legend(loc=0)\n",
    "plt.title('Crecimiento de las exportaciones de petróleo entre 2015 y 2022')\n",
    "plt.tight_layout()\n",
    "plt.show()"
   ]
  },
  {
   "cell_type": "code",
   "execution_count": null,
   "metadata": {},
   "outputs": [],
   "source": [
    "dfb2000=pd.read_csv('a2000.csv', sep=',')\n",
    "dfb2005=pd.read_csv('a2005.csv', sep=',')\n",
    "dfb2010=pd.read_csv('a2010.csv', sep=',')\n",
    "dfb2015=pd.read_csv('a2015.csv', sep=',')\n",
    "dfb2020=pd.read_csv('a2020.csv', sep=',')\n",
    "dfb2022=pd.read_csv('a2022.csv', sep=',')\n",
    "dfb2022"
   ]
  },
  {
   "cell_type": "code",
   "execution_count": null,
   "metadata": {},
   "outputs": [],
   "source": [
    "dfb2022.rename(columns={'Trade Value':'Trade Value 2022'}, inplace=True)\n",
    "dfb2020.rename(columns={'Trade Value':'Trade Value 2020'}, inplace=True)\n",
    "dfb2015.rename(columns={'Trade Value':'Trade Value 2015'}, inplace=True)\n",
    "dfb2010.rename(columns={'Trade Value':'Trade Value 2010'}, inplace=True)\n",
    "dfb2005.rename(columns={'Trade Value':'Trade Value 2005'}, inplace=True)\n",
    "dfb2000.rename(columns={'Trade Value':'Trade Value 2000'}, inplace=True)"
   ]
  },
  {
   "cell_type": "code",
   "execution_count": null,
   "metadata": {},
   "outputs": [],
   "source": [
    "dfb=pd.merge(dfb2000,dfb2005, how='outer')\n",
    "dfb=pd.merge(dfb,dfb2010, how='outer')\n",
    "dfb=pd.merge(dfb,dfb2015, how='outer')\n",
    "dfb=pd.merge(dfb,dfb2020, how='outer')\n",
    "dfb=pd.merge(dfb,dfb2022, how='outer')"
   ]
  },
  {
   "cell_type": "code",
   "execution_count": null,
   "metadata": {},
   "outputs": [],
   "source": [
    "dfb=dfb.sort_values(by='Trade Value 2022', ascending=False)\n",
    "dfb.set_index('Country')"
   ]
  },
  {
   "cell_type": "code",
   "execution_count": null,
   "metadata": {},
   "outputs": [],
   "source": [
    "dfb=dfb.head()\n",
    "#dfb=dfb.drop(columns=['Continent ID','Continent', 'Country ID','ISO 3'])\n",
    "y=dfb.head()\n",
    "y.set_index('Country', inplace=True)\n",
    "y"
   ]
  },
  {
   "cell_type": "code",
   "execution_count": null,
   "metadata": {},
   "outputs": [],
   "source": [
    "meses = [\"2000\", \"2005\", \"2010\", \"2015\", \"2020\", \"2022\"]\n",
    "countries = dfb[\"Country\"]\n",
    "x = np.arange(len(countries))  \n",
    "ancho = 0.15 \n",
    "\n",
    "plt.bar(x - 2 * ancho, dfb[\"Trade Value 2000\"], ancho, label='2000')\n",
    "plt.bar(x - ancho, dfb[\"Trade Value 2005\"], ancho, label='2005')\n",
    "plt.bar(x, dfb[\"Trade Value 2010\"], ancho, label='2010')\n",
    "plt.bar(x + ancho, dfb[\"Trade Value 2015\"], ancho, label='2015')\n",
    "plt.bar(x + 2 * ancho, dfb[\"Trade Value 2020\"], ancho, label='2020')\n",
    "plt.bar(x + 3 * ancho, dfb[\"Trade Value 2022\"], ancho, label='2022')\n",
    "plt.grid(True, axis='y', linestyle='--', alpha=0.7)\n",
    "plt.gca().yaxis.set_major_formatter(plt.FuncFormatter(lambda x, _: f'{x:,.0f}'))\n",
    "plt.xlabel('País')\n",
    "plt.ylabel('Cantidad de exportaciones en millones de dólares')\n",
    "plt.title('Cantidad de exportaciones por país y año')\n",
    "plt.xticks(x, countries, rotation=45)\n",
    "plt.legend()\n",
    "plt.tight_layout()\n",
    "plt.show()"
   ]
  },
  {
   "cell_type": "code",
   "execution_count": null,
   "metadata": {},
   "outputs": [],
   "source": [
    "#Datos conseguidos de un paper\n",
    "x = [2011, 2012, 2013, 2014, 2015, 2016, 2017, 2018, 2019, 2020]\n",
    "y = [19.177, 20.789, 20.260, 19.272, 13.323, 10.458, 13.973, 16.142, 14.534, 9.770]\n",
    "len=len(x)"
   ]
  },
  {
   "cell_type": "code",
   "execution_count": null,
   "metadata": {},
   "outputs": [],
   "source": [
    "mpl.rcParams['font.family'] = 'serif'"
   ]
  },
  {
   "cell_type": "code",
   "execution_count": null,
   "metadata": {},
   "outputs": [],
   "source": [
    "plt.figure(figsize=(12,6))\n",
    "plt.plot(x,y, label='Exportaciones en millones de euros')\n",
    "plt.legend(loc=0)\n",
    "plt.plot(x,y,'ro')\n",
    "plt.xlabel('Año')\n",
    "plt.ylabel('Exportaciones en millones de dolares')\n",
    "plt.title('Exportaciones kazajas hacia la UE de 2011 a 2020')\n",
    "plt.xticks(np.arange(2011,2021,1))\n",
    "plt.grid(True, axis='y', linestyle='--', alpha=0.7)"
   ]
  }
 ],
 "metadata": {
  "kernelspec": {
   "display_name": "base",
   "language": "python",
   "name": "python3"
  },
  "language_info": {
   "name": "python",
   "version": "3.12.4"
  }
 },
 "nbformat": 4,
 "nbformat_minor": 2
}
